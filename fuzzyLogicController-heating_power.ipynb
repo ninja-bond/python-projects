{
 "cells": [
  {
   "cell_type": "code",
   "execution_count": 20,
   "metadata": {},
   "outputs": [],
   "source": [
    "import numpy as np"
   ]
  },
  {
   "cell_type": "code",
   "execution_count": 21,
   "metadata": {},
   "outputs": [],
   "source": [
    "def triangle(x, a, b, c):\n",
    "    return max(min((x-a)/(b-a), (c-x)/(c-b)), 0)"
   ]
  },
  {
   "cell_type": "code",
   "execution_count": 22,
   "metadata": {},
   "outputs": [],
   "source": [
    "def trapazoid(x, a, b, c, d):\n",
    "    return max(min((x-a)/(b-a), 1, (d-x)/(d-c)), 0)"
   ]
  },
  {
   "cell_type": "code",
   "execution_count": 23,
   "metadata": {},
   "outputs": [],
   "source": [
    "def fuzzify_temp(temp):\n",
    "    cold = triangle(temp, -10, 0, 20)\n",
    "    warm = triangle(temp, 15, 25, 35)\n",
    "    hot = triangle(temp, 30, 40, 50)\n",
    "    return {'cold':cold, 'warm':warm, 'hot': hot}"
   ]
  },
  {
   "cell_type": "code",
   "execution_count": 24,
   "metadata": {},
   "outputs": [],
   "source": [
    "def fuzzify_err(err):\n",
    "    negative = triangle(err, -10, -5, 0)\n",
    "    zero = triangle(err, -2, 0, 2)\n",
    "    positive = triangle(err, 0, 5, 10)\n",
    "    return {'negative': negative, 'zero':zero, 'positive':positive}"
   ]
  },
  {
   "cell_type": "code",
   "execution_count": 25,
   "metadata": {},
   "outputs": [],
   "source": [
    "def rule_eval(temp_mf, err_mf):\n",
    "    rules = {\n",
    "        ('cold', 'positive'): 'high',\n",
    "        ('warm', 'zero'): 'medium',\n",
    "        ('hot', 'negative'): 'low',\n",
    "    }\n",
    "    \n",
    "    heater_mf = {'low': 0, 'medium': 0, 'high': 0}\n",
    "    \n",
    "    for (temp_key, err_key), heater_key in rules.items():\n",
    "        activation = min(temp_mf[temp_key], err_mf[err_key])\n",
    "        heater_mf[heater_key] = max(heater_mf[heater_key], activation)\n",
    "        \n",
    "    return heater_mf"
   ]
  },
  {
   "cell_type": "code",
   "execution_count": 26,
   "metadata": {},
   "outputs": [],
   "source": [
    "def defuzzify_heater(heater_mf):\n",
    "    def heater_low(x): return triangle(x, 70, 90, 100)\n",
    "    def heater_medium(x): return triangle(x, 40, 60, 80)\n",
    "    def heater_high(x): return triangle(x, 10, 30, 50)\n",
    "    \n",
    "    aggregated = lambda x:max(\n",
    "        heater_low(x)*heater_mf['low'],\n",
    "        heater_medium(x)*heater_mf['medium'],\n",
    "        heater_high(x)*heater_mf['high']\n",
    "    )\n",
    "    \n",
    "    resolution = 1000\n",
    "    x_vals = np.linspace(0, 100, resolution)\n",
    "    numerator = sum(x*aggregated(x) for x in x_vals)\n",
    "    denominator = sum(aggregated(x) for x in x_vals)\n",
    "    \n",
    "    return numerator/denominator if denominator !=0 else 0"
   ]
  },
  {
   "cell_type": "code",
   "execution_count": 37,
   "metadata": {},
   "outputs": [],
   "source": [
    "def flc(temp, err):\n",
    "    temp_mf = fuzzify_temp(temp)\n",
    "    err_mf = fuzzify_err(err)\n",
    "    heater_mf = rule_eval(temp_mf, err_mf)\n",
    "    heater_power = defuzzify_heater(heater_mf)\n",
    "    return heater_power"
   ]
  },
  {
   "cell_type": "code",
   "execution_count": 38,
   "metadata": {},
   "outputs": [
    {
     "name": "stdout",
     "output_type": "stream",
     "text": [
      "Heater Power: 30.00%\n"
     ]
    }
   ],
   "source": [
    "# if __name__ == \"main\":\n",
    "temp = 18\n",
    "err = 3\n",
    "heater_power = flc(temp, err)\n",
    "print(f\"Heater Power: {heater_power:.2f}%\")"
   ]
  },
  {
   "cell_type": "code",
   "execution_count": null,
   "metadata": {},
   "outputs": [],
   "source": []
  },
  {
   "cell_type": "code",
   "execution_count": null,
   "metadata": {},
   "outputs": [],
   "source": []
  }
 ],
 "metadata": {
  "kernelspec": {
   "display_name": "ga-emotion",
   "language": "python",
   "name": "python3"
  },
  "language_info": {
   "codemirror_mode": {
    "name": "ipython",
    "version": 3
   },
   "file_extension": ".py",
   "mimetype": "text/x-python",
   "name": "python",
   "nbconvert_exporter": "python",
   "pygments_lexer": "ipython3",
   "version": "3.9.18"
  }
 },
 "nbformat": 4,
 "nbformat_minor": 2
}
